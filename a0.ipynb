{
  "cells": [
    {
      "cell_type": "markdown",
      "metadata": {
        "id": "view-in-github",
        "colab_type": "text"
      },
      "source": [
        "<a href=\"https://colab.research.google.com/github/WenheLI/-/blob/main/a0.ipynb\" target=\"_parent\"><img src=\"https://colab.research.google.com/assets/colab-badge.svg\" alt=\"Open In Colab\"/></a>"
      ]
    },
    {
      "cell_type": "markdown",
      "metadata": {
        "id": "7irm-4sk8Ffa"
      },
      "source": [
        "##Git and Drive Integration"
      ]
    },
    {
      "cell_type": "code",
      "execution_count": 1,
      "metadata": {
        "id": "FJny0Nxk8IuJ"
      },
      "outputs": [],
      "source": [
        "from __future__ import print_function\n",
        "import argparse\n",
        "import torch\n",
        "import torch.nn as nn\n",
        "import torch.nn.functional as F\n",
        "import torch.optim as optim\n",
        "from torchvision import datasets, transforms\n",
        "from torch.optim.lr_scheduler import StepLR\n",
        "import time"
      ]
    },
    {
      "cell_type": "markdown",
      "source": [
        "### Mount google drive"
      ],
      "metadata": {
        "id": "WERRgUiQLkgH"
      }
    },
    {
      "cell_type": "code",
      "source": [
        "# Mount google drive to use a persistent directory structure\n",
        "from google.colab import drive\n",
        "drive.mount('/content/gdrive')"
      ],
      "metadata": {
        "id": "1ReJf67OJUzd",
        "colab": {
          "base_uri": "https://localhost:8080/"
        },
        "outputId": "7112cac8-5bf2-46d3-ea40-75b1d7fa834f"
      },
      "execution_count": 2,
      "outputs": [
        {
          "output_type": "stream",
          "name": "stdout",
          "text": [
            "Mounted at /content/gdrive\n"
          ]
        }
      ]
    },
    {
      "cell_type": "markdown",
      "source": [
        "### Clone the assignment repository"
      ],
      "metadata": {
        "id": "dOUJ-qFnLqw7"
      }
    },
    {
      "cell_type": "code",
      "source": [
        "# Clone repository in google drive\n",
        "%mkdir /content/gdrive/MyDrive/ece5545\n",
        "%cd /content/gdrive/MyDrive/ece5545\n",
        "!git clone https://YOUR_TOKEN@github.com/ML-HW-SYS/a0.git #paste your github token here"
      ],
      "metadata": {
        "id": "PZpt4K8HJ86p"
      },
      "execution_count": null,
      "outputs": []
    },
    {
      "cell_type": "markdown",
      "source": [
        "### Add `src` directory to the Python import path"
      ],
      "metadata": {
        "id": "eCOS6gDnLvzr"
      }
    },
    {
      "cell_type": "code",
      "source": [
        "# import functions from the src directory in repo\n",
        "import sys\n",
        "sys.path.insert(0, '/content/gdrive/MyDrive/ece5545/a0-WenheLI/src')"
      ],
      "metadata": {
        "id": "tZAlavR7KzQ8"
      },
      "execution_count": 10,
      "outputs": []
    },
    {
      "cell_type": "markdown",
      "source": [
        "### Import functions from `src/train_utils.py`"
      ],
      "metadata": {
        "id": "2xC-uqgYL3n9"
      }
    },
    {
      "cell_type": "code",
      "source": [
        "import train_utils\n",
        "from model import *"
      ],
      "metadata": {
        "id": "4We44OWFLF-1"
      },
      "execution_count": 11,
      "outputs": []
    },
    {
      "cell_type": "markdown",
      "source": [
        "### Make changes to `src` files and push to repo"
      ],
      "metadata": {
        "id": "hnu4vIr8QJKR"
      }
    },
    {
      "cell_type": "code",
      "source": [
        "# You will likely need to set your git user identification settings\n",
        "!git config --global user.email \"wl692@cornell.edu\"  # update with your email\n",
        "!git config --global user.name \"Wenhe LI\"   # update with your name "
      ],
      "metadata": {
        "id": "CtH2Xy7TQRq7"
      },
      "execution_count": 12,
      "outputs": []
    },
    {
      "cell_type": "code",
      "source": [
        "# To run the same tests that are run on Github Classroom\n",
        "%cd /content/gdrive/MyDrive/ece5545/a0-WenheLI/\n",
        "!python3 -m pytest"
      ],
      "metadata": {
        "id": "8IEDZpwTdF_z",
        "colab": {
          "base_uri": "https://localhost:8080/"
        },
        "outputId": "f920074c-a068-4abf-bc71-1324d47be5d1"
      },
      "execution_count": 13,
      "outputs": [
        {
          "output_type": "stream",
          "name": "stdout",
          "text": [
            "/content/gdrive/MyDrive/ece5545/a0-WenheLI\n",
            "\u001b[1m============================= test session starts ==============================\u001b[0m\n",
            "platform linux -- Python 3.7.12, pytest-3.6.4, py-1.11.0, pluggy-0.7.1\n",
            "rootdir: /content/gdrive/MyDrive/ece5545/a0-WenheLI, inifile:\n",
            "plugins: typeguard-2.7.1\n",
            "collected 1 item                                                               \u001b[0m\n",
            "\n",
            "tests/test_model.py .\u001b[36m                                                    [100%]\u001b[0m\n",
            "\n",
            "\u001b[32m\u001b[1m=========================== 1 passed in 2.32 seconds ===========================\u001b[0m\n"
          ]
        }
      ]
    },
    {
      "cell_type": "code",
      "source": [
        "%cd /content/gdrive/MyDrive/ece5545/a0/src\n",
        "# Navigate to a0/src/model.py and fix the bug (denoted by TODO)\n",
        "# in the file then commit the changes below\n",
        "!git commit -am \"fixed bug in model.py\"\n",
        "!git push"
      ],
      "metadata": {
        "id": "BfekNg28QJXK"
      },
      "execution_count": null,
      "outputs": []
    },
    {
      "cell_type": "markdown",
      "metadata": {
        "id": "S4U_ErcR8jm4"
      },
      "source": [
        "## Training Configuration"
      ]
    },
    {
      "cell_type": "code",
      "execution_count": 23,
      "metadata": {
        "id": "48UjE1Ub8miw"
      },
      "outputs": [],
      "source": [
        "batch_size = 128\n",
        "epochs = 5\n",
        "lr = 1.0\n",
        "gamma = 0.7\n",
        "no_cuda = False\n",
        "seed = 42\n",
        "log_interval = 50\n",
        "save_model = False\n",
        "dry_run = False\n",
        "\n",
        "# Derived parameters\n",
        "use_cuda = not no_cuda and torch.cuda.is_available()\n",
        "torch.manual_seed(seed)\n",
        "device = torch.device(\"cuda\" if use_cuda else \"cpu\")\n",
        "\n",
        "train_kwargs = {'batch_size': batch_size}\n",
        "test_kwargs = {'batch_size': batch_size}\n",
        "if use_cuda:\n",
        "    cuda_kwargs = {'num_workers': 1,\n",
        "                   'pin_memory': True,\n",
        "                   'shuffle': True}\n",
        "    train_kwargs.update(cuda_kwargs)\n",
        "    test_kwargs.update(cuda_kwargs)"
      ]
    },
    {
      "cell_type": "markdown",
      "metadata": {
        "id": "8Op3rAAv8r6y"
      },
      "source": [
        "## Data Loaders and Optimizer Setup"
      ]
    },
    {
      "cell_type": "code",
      "execution_count": 24,
      "metadata": {
        "id": "bwFBxzFA8yy8"
      },
      "outputs": [],
      "source": [
        "transform=transforms.Compose([\n",
        "    transforms.ToTensor(),\n",
        "    transforms.Normalize((0.1307,), (0.3081,))\n",
        "    ])\n",
        "dataset1 = datasets.MNIST('/content/gdrive/MyDrive/ece5545/data', train=True, download=True,\n",
        "                    transform=transform)\n",
        "dataset2 = datasets.MNIST('/content/gdrive/MyDrive/ece5545/data', train=False,\n",
        "                       transform=transform)\n",
        "train_loader = torch.utils.data.DataLoader(dataset1,**train_kwargs)\n",
        "test_loader = torch.utils.data.DataLoader(dataset2, **test_kwargs)\n",
        "\n",
        "model = Net().to(device)\n",
        "optimizer = optim.Adadelta(model.parameters(), lr=lr)\n",
        "\n",
        "scheduler = StepLR(optimizer, step_size=1, gamma=gamma)"
      ]
    },
    {
      "cell_type": "markdown",
      "metadata": {
        "id": "y10wFNoo81-U"
      },
      "source": [
        "## Training Loop"
      ]
    },
    {
      "cell_type": "code",
      "execution_count": 26,
      "metadata": {
        "id": "NGnAaTm64X_l",
        "colab": {
          "base_uri": "https://localhost:8080/"
        },
        "outputId": "481a6e97-b537-4ee8-a303-0eacb2498805"
      },
      "outputs": [
        {
          "output_type": "execute_result",
          "data": {
            "text/plain": [
              "<module 'train_utils' from '/content/gdrive/MyDrive/ece5545/a0-WenheLI/src/train_utils.py'>"
            ]
          },
          "metadata": {},
          "execution_count": 26
        }
      ],
      "source": [
        "import importlib\n",
        "importlib.reload(train_utils)\n",
        "# we use importlib to make sure that we are loading\n",
        "# the latest version of train_utils after any changes\n",
        "# that you may have done\n",
        "\n",
        "# for epoch in range(1, epochs + 1):\n",
        "#     train_utils.train(model, device, train_loader, optimizer, epoch, log_interval, dry_run)\n",
        "#     train_utils.test(model, device, test_loader)\n",
        "#     scheduler.step()\n",
        "\n",
        "# if save_model:\n",
        "#     torch.save(model.state_dict(), \"mnist_cnn.pt\")"
      ]
    },
    {
      "cell_type": "code",
      "execution_count": 42,
      "metadata": {
        "id": "E-AAD7e86Az_",
        "colab": {
          "base_uri": "https://localhost:8080/"
        },
        "outputId": "8f6d089c-f191-47ed-b195-495297582ccb"
      },
      "outputs": [
        {
          "output_type": "stream",
          "name": "stdout",
          "text": [
            "Mon Jan 24 18:52:58 2022       \n",
            "+-----------------------------------------------------------------------------+\n",
            "| NVIDIA-SMI 495.46       Driver Version: 460.32.03    CUDA Version: 11.2     |\n",
            "|-------------------------------+----------------------+----------------------+\n",
            "| GPU  Name        Persistence-M| Bus-Id        Disp.A | Volatile Uncorr. ECC |\n",
            "| Fan  Temp  Perf  Pwr:Usage/Cap|         Memory-Usage | GPU-Util  Compute M. |\n",
            "|                               |                      |               MIG M. |\n",
            "|===============================+======================+======================|\n",
            "|   0  Tesla K80           Off  | 00000000:00:04.0 Off |                    0 |\n",
            "| N/A   48C    P0    65W / 149W |    876MiB / 11441MiB |      0%      Default |\n",
            "|                               |                      |                  N/A |\n",
            "+-------------------------------+----------------------+----------------------+\n",
            "                                                                               \n",
            "+-----------------------------------------------------------------------------+\n",
            "| Processes:                                                                  |\n",
            "|  GPU   GI   CI        PID   Type   Process name                  GPU Memory |\n",
            "|        ID   ID                                                   Usage      |\n",
            "|=============================================================================|\n",
            "|  No running processes found                                                 |\n",
            "+-----------------------------------------------------------------------------+\n"
          ]
        }
      ],
      "source": [
        "# Diagnostic information about the used GPU device\n",
        "!nvidia-smi"
      ]
    },
    {
      "cell_type": "code",
      "source": [
        "import time\n",
        "import statistics \n"
      ],
      "metadata": {
        "id": "cs7uqB6iV6jW"
      },
      "execution_count": 28,
      "outputs": []
    },
    {
      "cell_type": "code",
      "execution_count": 27,
      "metadata": {
        "id": "sJFiI9Bs72lL",
        "colab": {
          "base_uri": "https://localhost:8080/"
        },
        "outputId": "6cc10093-ea23-4dff-c37e-53c88e0958d5"
      },
      "outputs": [
        {
          "output_type": "stream",
          "name": "stdout",
          "text": [
            "Train Epoch: 1 [0/60000 (0%)]\tLoss: 0.206454\n",
            "Train Epoch: 1 [6400/60000 (11%)]\tLoss: 0.226110\n",
            "Train Epoch: 1 [12800/60000 (21%)]\tLoss: 0.099422\n",
            "Train Epoch: 1 [19200/60000 (32%)]\tLoss: 0.242742\n",
            "Train Epoch: 1 [25600/60000 (43%)]\tLoss: 0.202170\n",
            "Train Epoch: 1 [32000/60000 (53%)]\tLoss: 0.089456\n",
            "Train Epoch: 1 [38400/60000 (64%)]\tLoss: 0.019015\n",
            "Train Epoch: 1 [44800/60000 (75%)]\tLoss: 0.100273\n",
            "Train Epoch: 1 [51200/60000 (85%)]\tLoss: 0.075008\n",
            "Train Epoch: 1 [57600/60000 (96%)]\tLoss: 0.082217\n",
            "\n",
            "Epoch 1 time = 15.21s on device cuda\n",
            "\n",
            "Test set: Average loss: 0.0431, Accuracy: 9863/10000 (99%)\n",
            "\n",
            "Train Epoch: 2 [0/60000 (0%)]\tLoss: 0.070831\n",
            "Train Epoch: 2 [6400/60000 (11%)]\tLoss: 0.090437\n",
            "Train Epoch: 2 [12800/60000 (21%)]\tLoss: 0.051464\n",
            "Train Epoch: 2 [19200/60000 (32%)]\tLoss: 0.012464\n",
            "Train Epoch: 2 [25600/60000 (43%)]\tLoss: 0.037985\n",
            "Train Epoch: 2 [32000/60000 (53%)]\tLoss: 0.121104\n",
            "Train Epoch: 2 [38400/60000 (64%)]\tLoss: 0.031131\n",
            "Train Epoch: 2 [44800/60000 (75%)]\tLoss: 0.014423\n",
            "Train Epoch: 2 [51200/60000 (85%)]\tLoss: 0.042249\n",
            "Train Epoch: 2 [57600/60000 (96%)]\tLoss: 0.175525\n",
            "\n",
            "Epoch 2 time = 15.28s on device cuda\n",
            "\n",
            "Test set: Average loss: 0.0380, Accuracy: 9867/10000 (99%)\n",
            "\n",
            "Train Epoch: 3 [0/60000 (0%)]\tLoss: 0.051826\n",
            "Train Epoch: 3 [6400/60000 (11%)]\tLoss: 0.010236\n",
            "Train Epoch: 3 [12800/60000 (21%)]\tLoss: 0.104435\n",
            "Train Epoch: 3 [19200/60000 (32%)]\tLoss: 0.089924\n",
            "Train Epoch: 3 [25600/60000 (43%)]\tLoss: 0.042116\n",
            "Train Epoch: 3 [32000/60000 (53%)]\tLoss: 0.022731\n",
            "Train Epoch: 3 [38400/60000 (64%)]\tLoss: 0.017923\n",
            "Train Epoch: 3 [44800/60000 (75%)]\tLoss: 0.014068\n",
            "Train Epoch: 3 [51200/60000 (85%)]\tLoss: 0.096891\n",
            "Train Epoch: 3 [57600/60000 (96%)]\tLoss: 0.057401\n",
            "\n",
            "Epoch 3 time = 15.18s on device cuda\n",
            "\n",
            "Test set: Average loss: 0.0298, Accuracy: 9904/10000 (99%)\n",
            "\n",
            "Train Epoch: 4 [0/60000 (0%)]\tLoss: 0.078181\n",
            "Train Epoch: 4 [6400/60000 (11%)]\tLoss: 0.067825\n",
            "Train Epoch: 4 [12800/60000 (21%)]\tLoss: 0.011504\n",
            "Train Epoch: 4 [19200/60000 (32%)]\tLoss: 0.041068\n",
            "Train Epoch: 4 [25600/60000 (43%)]\tLoss: 0.072800\n",
            "Train Epoch: 4 [32000/60000 (53%)]\tLoss: 0.021704\n",
            "Train Epoch: 4 [38400/60000 (64%)]\tLoss: 0.018406\n",
            "Train Epoch: 4 [44800/60000 (75%)]\tLoss: 0.106516\n",
            "Train Epoch: 4 [51200/60000 (85%)]\tLoss: 0.050787\n",
            "Train Epoch: 4 [57600/60000 (96%)]\tLoss: 0.007436\n",
            "\n",
            "Epoch 4 time = 15.19s on device cuda\n",
            "\n",
            "Test set: Average loss: 0.0273, Accuracy: 9910/10000 (99%)\n",
            "\n",
            "Train Epoch: 5 [0/60000 (0%)]\tLoss: 0.011172\n",
            "Train Epoch: 5 [6400/60000 (11%)]\tLoss: 0.009330\n",
            "Train Epoch: 5 [12800/60000 (21%)]\tLoss: 0.012060\n",
            "Train Epoch: 5 [19200/60000 (32%)]\tLoss: 0.009495\n",
            "Train Epoch: 5 [25600/60000 (43%)]\tLoss: 0.064902\n",
            "Train Epoch: 5 [32000/60000 (53%)]\tLoss: 0.049397\n",
            "Train Epoch: 5 [38400/60000 (64%)]\tLoss: 0.001522\n",
            "Train Epoch: 5 [44800/60000 (75%)]\tLoss: 0.061991\n",
            "Train Epoch: 5 [51200/60000 (85%)]\tLoss: 0.034447\n",
            "Train Epoch: 5 [57600/60000 (96%)]\tLoss: 0.017824\n",
            "\n",
            "Epoch 5 time = 14.94s on device cuda\n",
            "\n",
            "Test set: Average loss: 0.0275, Accuracy: 9913/10000 (99%)\n",
            "\n"
          ]
        }
      ],
      "source": [
        "# GPU Benchmark\n",
        "training_time_gpu = []\n",
        "for epoch in range(1, epochs + 1):\n",
        "    start = time.time()\n",
        "    train_utils.train(model, device, train_loader, optimizer, epoch, log_interval, dry_run)\n",
        "    end = time.time()\n",
        "    training_time_gpu.append(end - start)\n",
        "    train_utils.test(model, device, test_loader)\n",
        "    scheduler.step()\n",
        "   \n"
      ]
    },
    {
      "cell_type": "code",
      "source": [
        "mean_time = statistics.mean(training_time_gpu)\n",
        "std_time = statistics.stdev(training_time_gpu)\n",
        "print(f\"Mean Training Time is {mean_time:.2f}\\n std Training Time is {std_time:.2f}\")"
      ],
      "metadata": {
        "colab": {
          "base_uri": "https://localhost:8080/"
        },
        "id": "6j63qRaMXpE6",
        "outputId": "c9ab360d-4c2a-4b70-dfaf-14f675b58618"
      },
      "execution_count": 36,
      "outputs": [
        {
          "output_type": "stream",
          "name": "stdout",
          "text": [
            "Mean Training Time is 15.16\n",
            " std Training Time is 0.13\n"
          ]
        }
      ]
    },
    {
      "cell_type": "code",
      "source": [
        "# Init CPU model\n",
        "train_kwargs = {'batch_size': batch_size}\n",
        "test_kwargs = {'batch_size': batch_size}\n",
        "train_loader = torch.utils.data.DataLoader(dataset1,**train_kwargs)\n",
        "test_loader = torch.utils.data.DataLoader(dataset2, **test_kwargs)\n",
        "device = 'cpu'\n",
        "model = Net().to('cpu')\n",
        "optimizer = optim.Adadelta(model.parameters(), lr=lr)\n",
        "\n",
        "scheduler = StepLR(optimizer, step_size=1, gamma=gamma)"
      ],
      "metadata": {
        "id": "fJXc8R8TYEcY"
      },
      "execution_count": 40,
      "outputs": []
    },
    {
      "cell_type": "code",
      "source": [
        "# CPU Benchmark\n",
        "training_time_cpu = []\n",
        "for epoch in range(1, epochs + 1):\n",
        "    start = time.time()\n",
        "    train_utils.train(model, device, train_loader, optimizer, epoch, log_interval, dry_run)\n",
        "    end = time.time()\n",
        "    training_time_cpu.append(end - start)\n",
        "    train_utils.test(model, device, test_loader)\n",
        "    scheduler.step()"
      ],
      "metadata": {
        "colab": {
          "base_uri": "https://localhost:8080/"
        },
        "id": "f0nIpvkPY6FZ",
        "outputId": "c527c6c5-a0ec-406c-c140-802bd4e4d6b1"
      },
      "execution_count": 41,
      "outputs": [
        {
          "output_type": "stream",
          "name": "stdout",
          "text": [
            "Train Epoch: 1 [0/60000 (0%)]\tLoss: 2.324942\n",
            "Train Epoch: 1 [6400/60000 (11%)]\tLoss: 0.382082\n",
            "Train Epoch: 1 [12800/60000 (21%)]\tLoss: 0.244864\n",
            "Train Epoch: 1 [19200/60000 (32%)]\tLoss: 0.207426\n",
            "Train Epoch: 1 [25600/60000 (43%)]\tLoss: 0.166932\n",
            "Train Epoch: 1 [32000/60000 (53%)]\tLoss: 0.162418\n",
            "Train Epoch: 1 [38400/60000 (64%)]\tLoss: 0.140420\n",
            "Train Epoch: 1 [44800/60000 (75%)]\tLoss: 0.089345\n",
            "Train Epoch: 1 [51200/60000 (85%)]\tLoss: 0.186967\n",
            "Train Epoch: 1 [57600/60000 (96%)]\tLoss: 0.099100\n",
            "\n",
            "Epoch 1 time = 130.31s on device cpu\n",
            "\n",
            "Test set: Average loss: 0.0525, Accuracy: 9832/10000 (98%)\n",
            "\n",
            "Train Epoch: 2 [0/60000 (0%)]\tLoss: 0.062131\n",
            "Train Epoch: 2 [6400/60000 (11%)]\tLoss: 0.106191\n",
            "Train Epoch: 2 [12800/60000 (21%)]\tLoss: 0.092774\n",
            "Train Epoch: 2 [19200/60000 (32%)]\tLoss: 0.097923\n",
            "Train Epoch: 2 [25600/60000 (43%)]\tLoss: 0.060503\n",
            "Train Epoch: 2 [32000/60000 (53%)]\tLoss: 0.061120\n",
            "Train Epoch: 2 [38400/60000 (64%)]\tLoss: 0.135880\n",
            "Train Epoch: 2 [44800/60000 (75%)]\tLoss: 0.051813\n",
            "Train Epoch: 2 [51200/60000 (85%)]\tLoss: 0.180366\n",
            "Train Epoch: 2 [57600/60000 (96%)]\tLoss: 0.101006\n",
            "\n",
            "Epoch 2 time = 133.31s on device cpu\n",
            "\n",
            "Test set: Average loss: 0.0392, Accuracy: 9866/10000 (99%)\n",
            "\n",
            "Train Epoch: 3 [0/60000 (0%)]\tLoss: 0.069260\n",
            "Train Epoch: 3 [6400/60000 (11%)]\tLoss: 0.073999\n",
            "Train Epoch: 3 [12800/60000 (21%)]\tLoss: 0.053525\n",
            "Train Epoch: 3 [19200/60000 (32%)]\tLoss: 0.049790\n",
            "Train Epoch: 3 [25600/60000 (43%)]\tLoss: 0.036010\n",
            "Train Epoch: 3 [32000/60000 (53%)]\tLoss: 0.071476\n",
            "Train Epoch: 3 [38400/60000 (64%)]\tLoss: 0.109809\n",
            "Train Epoch: 3 [44800/60000 (75%)]\tLoss: 0.025935\n",
            "Train Epoch: 3 [51200/60000 (85%)]\tLoss: 0.123522\n",
            "Train Epoch: 3 [57600/60000 (96%)]\tLoss: 0.026078\n",
            "\n",
            "Epoch 3 time = 135.06s on device cpu\n",
            "\n",
            "Test set: Average loss: 0.0320, Accuracy: 9890/10000 (99%)\n",
            "\n",
            "Train Epoch: 4 [0/60000 (0%)]\tLoss: 0.051189\n",
            "Train Epoch: 4 [6400/60000 (11%)]\tLoss: 0.076138\n",
            "Train Epoch: 4 [12800/60000 (21%)]\tLoss: 0.008828\n",
            "Train Epoch: 4 [19200/60000 (32%)]\tLoss: 0.020426\n",
            "Train Epoch: 4 [25600/60000 (43%)]\tLoss: 0.046897\n",
            "Train Epoch: 4 [32000/60000 (53%)]\tLoss: 0.051471\n",
            "Train Epoch: 4 [38400/60000 (64%)]\tLoss: 0.040451\n",
            "Train Epoch: 4 [44800/60000 (75%)]\tLoss: 0.016356\n",
            "Train Epoch: 4 [51200/60000 (85%)]\tLoss: 0.112364\n",
            "Train Epoch: 4 [57600/60000 (96%)]\tLoss: 0.028946\n",
            "\n",
            "Epoch 4 time = 135.24s on device cpu\n",
            "\n",
            "Test set: Average loss: 0.0310, Accuracy: 9891/10000 (99%)\n",
            "\n",
            "Train Epoch: 5 [0/60000 (0%)]\tLoss: 0.048893\n",
            "Train Epoch: 5 [6400/60000 (11%)]\tLoss: 0.021193\n",
            "Train Epoch: 5 [12800/60000 (21%)]\tLoss: 0.033310\n",
            "Train Epoch: 5 [19200/60000 (32%)]\tLoss: 0.006835\n",
            "Train Epoch: 5 [25600/60000 (43%)]\tLoss: 0.088028\n",
            "Train Epoch: 5 [32000/60000 (53%)]\tLoss: 0.028615\n",
            "Train Epoch: 5 [38400/60000 (64%)]\tLoss: 0.027913\n",
            "Train Epoch: 5 [44800/60000 (75%)]\tLoss: 0.022769\n",
            "Train Epoch: 5 [51200/60000 (85%)]\tLoss: 0.108867\n",
            "Train Epoch: 5 [57600/60000 (96%)]\tLoss: 0.016804\n",
            "\n",
            "Epoch 5 time = 135.15s on device cpu\n",
            "\n",
            "Test set: Average loss: 0.0284, Accuracy: 9908/10000 (99%)\n",
            "\n"
          ]
        }
      ]
    },
    {
      "cell_type": "code",
      "source": [
        "mean_time = statistics.mean(training_time_cpu)\n",
        "std_time = statistics.stdev(training_time_cpu)\n",
        "print(f\"Mean Training Time is {mean_time:.2f}\\n std Training Time is {std_time:.2f}\")"
      ],
      "metadata": {
        "id": "i8ux8tbZb9rS",
        "outputId": "a2c99310-da92-4d33-a9ff-2b10497d2be3",
        "colab": {
          "base_uri": "https://localhost:8080/"
        }
      },
      "execution_count": 44,
      "outputs": [
        {
          "output_type": "stream",
          "name": "stdout",
          "text": [
            "Mean Training Time is 133.82\n",
            " std Training Time is 2.12\n"
          ]
        }
      ]
    },
    {
      "cell_type": "markdown",
      "source": [
        "## Batch Size Experiment"
      ],
      "metadata": {
        "id": "rV8On9yLcuAV"
      }
    },
    {
      "cell_type": "code",
      "source": [
        "batch_sizes = [1, 4, 8, 16, 32, 64, 128, 256, 512]\n",
        "epochs = 5\n",
        "lr = 1.0\n",
        "gamma = 0.7\n",
        "no_cuda = True\n",
        "seed = 42\n",
        "log_interval = 50\n",
        "save_model = False\n",
        "dry_run = False\n",
        "optimizer = optim.Adadelta(model.parameters(), lr=lr)\n",
        "\n",
        "scheduler = StepLR(optimizer, step_size=1, gamma=gamma)\n",
        "\n",
        "# Derived parameters\n",
        "use_cuda = not no_cuda and torch.cuda.is_available()\n",
        "torch.manual_seed(seed)\n",
        "device = torch.device(\"cuda\" if use_cuda else \"cpu\")\n",
        "model = Net().to(device)\n",
        "\n",
        "for batch_size in batch_sizes:\n",
        "  train_kwargs = {'batch_size': batch_size}\n",
        "  test_kwargs = {'batch_size': batch_size}\n",
        "  if use_cuda:\n",
        "      cuda_kwargs = {'num_workers': 1,\n",
        "                    'pin_memory': True,\n",
        "                    'shuffle': True}\n",
        "      train_kwargs.update(cuda_kwargs)\n",
        "      test_kwargs.update(cuda_kwargs)\n",
        "  train_loader = torch.utils.data.DataLoader(dataset1,**train_kwargs)\n",
        "  test_loader = torch.utils.data.DataLoader(dataset2, **test_kwargs)\n",
        "  training_time_batch = []\n",
        "  for epoch in range(1, epochs + 1):\n",
        "      start = time.time()\n",
        "      train_utils.train(model, device, train_loader, optimizer, epoch, log_interval, dry_run)\n",
        "      end = time.time()\n",
        "      training_time_batch.append(end - start)\n",
        "      train_utils.test(model, device, test_loader)\n",
        "      scheduler.step()"
      ],
      "metadata": {
        "id": "GDxByPVMcx-4",
        "outputId": "eae29ab6-058f-404c-e9df-969990dd7b8f",
        "colab": {
          "base_uri": "https://localhost:8080/"
        }
      },
      "execution_count": null,
      "outputs": [
        {
          "output_type": "stream",
          "name": "stdout",
          "text": [
            "Train Epoch: 1 [0/60000 (0%)]\tLoss: 2.066904\n",
            "Train Epoch: 1 [50/60000 (0%)]\tLoss: 2.265026\n",
            "Train Epoch: 1 [100/60000 (0%)]\tLoss: 2.287133\n",
            "Train Epoch: 1 [150/60000 (0%)]\tLoss: 2.407438\n",
            "Train Epoch: 1 [200/60000 (0%)]\tLoss: 2.330679\n",
            "Train Epoch: 1 [250/60000 (0%)]\tLoss: 2.201932\n",
            "Train Epoch: 1 [300/60000 (0%)]\tLoss: 2.351377\n",
            "Train Epoch: 1 [350/60000 (1%)]\tLoss: 2.306466\n",
            "Train Epoch: 1 [400/60000 (1%)]\tLoss: 2.400608\n",
            "Train Epoch: 1 [450/60000 (1%)]\tLoss: 2.419361\n",
            "Train Epoch: 1 [500/60000 (1%)]\tLoss: 2.375021\n",
            "Train Epoch: 1 [550/60000 (1%)]\tLoss: 2.315106\n",
            "Train Epoch: 1 [600/60000 (1%)]\tLoss: 2.322089\n",
            "Train Epoch: 1 [650/60000 (1%)]\tLoss: 2.363594\n",
            "Train Epoch: 1 [700/60000 (1%)]\tLoss: 2.335497\n",
            "Train Epoch: 1 [750/60000 (1%)]\tLoss: 2.343467\n",
            "Train Epoch: 1 [800/60000 (1%)]\tLoss: 2.329245\n",
            "Train Epoch: 1 [850/60000 (1%)]\tLoss: 2.302702\n",
            "Train Epoch: 1 [900/60000 (2%)]\tLoss: 2.355317\n",
            "Train Epoch: 1 [950/60000 (2%)]\tLoss: 2.331308\n",
            "Train Epoch: 1 [1000/60000 (2%)]\tLoss: 2.229002\n",
            "Train Epoch: 1 [1050/60000 (2%)]\tLoss: 2.259278\n",
            "Train Epoch: 1 [1100/60000 (2%)]\tLoss: 2.195631\n",
            "Train Epoch: 1 [1150/60000 (2%)]\tLoss: 2.289001\n",
            "Train Epoch: 1 [1200/60000 (2%)]\tLoss: 2.364257\n",
            "Train Epoch: 1 [1250/60000 (2%)]\tLoss: 2.311755\n",
            "Train Epoch: 1 [1300/60000 (2%)]\tLoss: 2.327020\n",
            "Train Epoch: 1 [1350/60000 (2%)]\tLoss: 2.245981\n",
            "Train Epoch: 1 [1400/60000 (2%)]\tLoss: 2.185656\n",
            "Train Epoch: 1 [1450/60000 (2%)]\tLoss: 2.388796\n",
            "Train Epoch: 1 [1500/60000 (2%)]\tLoss: 2.271001\n",
            "Train Epoch: 1 [1550/60000 (3%)]\tLoss: 2.293573\n",
            "Train Epoch: 1 [1600/60000 (3%)]\tLoss: 2.227194\n",
            "Train Epoch: 1 [1650/60000 (3%)]\tLoss: 2.190242\n",
            "Train Epoch: 1 [1700/60000 (3%)]\tLoss: 2.413253\n",
            "Train Epoch: 1 [1750/60000 (3%)]\tLoss: 2.205130\n",
            "Train Epoch: 1 [1800/60000 (3%)]\tLoss: 2.429685\n",
            "Train Epoch: 1 [1850/60000 (3%)]\tLoss: 2.296037\n",
            "Train Epoch: 1 [1900/60000 (3%)]\tLoss: 2.417365\n",
            "Train Epoch: 1 [1950/60000 (3%)]\tLoss: 2.333373\n",
            "Train Epoch: 1 [2000/60000 (3%)]\tLoss: 2.215938\n",
            "Train Epoch: 1 [2050/60000 (3%)]\tLoss: 2.336558\n",
            "Train Epoch: 1 [2100/60000 (4%)]\tLoss: 2.079872\n",
            "Train Epoch: 1 [2150/60000 (4%)]\tLoss: 2.318367\n",
            "Train Epoch: 1 [2200/60000 (4%)]\tLoss: 2.199477\n",
            "Train Epoch: 1 [2250/60000 (4%)]\tLoss: 2.243138\n",
            "Train Epoch: 1 [2300/60000 (4%)]\tLoss: 2.327753\n",
            "Train Epoch: 1 [2350/60000 (4%)]\tLoss: 2.285955\n",
            "Train Epoch: 1 [2400/60000 (4%)]\tLoss: 2.446501\n",
            "Train Epoch: 1 [2450/60000 (4%)]\tLoss: 2.401900\n",
            "Train Epoch: 1 [2500/60000 (4%)]\tLoss: 2.284720\n",
            "Train Epoch: 1 [2550/60000 (4%)]\tLoss: 2.341069\n",
            "Train Epoch: 1 [2600/60000 (4%)]\tLoss: 2.325125\n",
            "Train Epoch: 1 [2650/60000 (4%)]\tLoss: 2.278838\n",
            "Train Epoch: 1 [2700/60000 (4%)]\tLoss: 2.343839\n",
            "Train Epoch: 1 [2750/60000 (5%)]\tLoss: 2.341549\n",
            "Train Epoch: 1 [2800/60000 (5%)]\tLoss: 2.394095\n",
            "Train Epoch: 1 [2850/60000 (5%)]\tLoss: 2.255280\n",
            "Train Epoch: 1 [2900/60000 (5%)]\tLoss: 2.276739\n",
            "Train Epoch: 1 [2950/60000 (5%)]\tLoss: 2.299098\n",
            "Train Epoch: 1 [3000/60000 (5%)]\tLoss: 2.227660\n",
            "Train Epoch: 1 [3050/60000 (5%)]\tLoss: 2.242852\n",
            "Train Epoch: 1 [3100/60000 (5%)]\tLoss: 2.293872\n",
            "Train Epoch: 1 [3150/60000 (5%)]\tLoss: 2.293312\n",
            "Train Epoch: 1 [3200/60000 (5%)]\tLoss: 2.278742\n",
            "Train Epoch: 1 [3250/60000 (5%)]\tLoss: 2.294036\n",
            "Train Epoch: 1 [3300/60000 (6%)]\tLoss: 2.345138\n",
            "Train Epoch: 1 [3350/60000 (6%)]\tLoss: 2.355321\n",
            "Train Epoch: 1 [3400/60000 (6%)]\tLoss: 2.320060\n",
            "Train Epoch: 1 [3450/60000 (6%)]\tLoss: 2.277889\n",
            "Train Epoch: 1 [3500/60000 (6%)]\tLoss: 2.217309\n",
            "Train Epoch: 1 [3550/60000 (6%)]\tLoss: 2.272897\n",
            "Train Epoch: 1 [3600/60000 (6%)]\tLoss: 2.353513\n",
            "Train Epoch: 1 [3650/60000 (6%)]\tLoss: 2.326562\n",
            "Train Epoch: 1 [3700/60000 (6%)]\tLoss: 2.219961\n",
            "Train Epoch: 1 [3750/60000 (6%)]\tLoss: 2.303299\n",
            "Train Epoch: 1 [3800/60000 (6%)]\tLoss: 2.415440\n",
            "Train Epoch: 1 [3850/60000 (6%)]\tLoss: 2.460434\n",
            "Train Epoch: 1 [3900/60000 (6%)]\tLoss: 2.386110\n",
            "Train Epoch: 1 [3950/60000 (7%)]\tLoss: 2.365927\n",
            "Train Epoch: 1 [4000/60000 (7%)]\tLoss: 2.311904\n",
            "Train Epoch: 1 [4050/60000 (7%)]\tLoss: 2.303147\n",
            "Train Epoch: 1 [4100/60000 (7%)]\tLoss: 2.330197\n",
            "Train Epoch: 1 [4150/60000 (7%)]\tLoss: 2.279535\n",
            "Train Epoch: 1 [4200/60000 (7%)]\tLoss: 2.275141\n",
            "Train Epoch: 1 [4250/60000 (7%)]\tLoss: 2.279871\n",
            "Train Epoch: 1 [4300/60000 (7%)]\tLoss: 2.497696\n",
            "Train Epoch: 1 [4350/60000 (7%)]\tLoss: 2.264183\n",
            "Train Epoch: 1 [4400/60000 (7%)]\tLoss: 2.296715\n",
            "Train Epoch: 1 [4450/60000 (7%)]\tLoss: 2.307744\n",
            "Train Epoch: 1 [4500/60000 (8%)]\tLoss: 2.122116\n",
            "Train Epoch: 1 [4550/60000 (8%)]\tLoss: 2.357346\n",
            "Train Epoch: 1 [4600/60000 (8%)]\tLoss: 2.292024\n",
            "Train Epoch: 1 [4650/60000 (8%)]\tLoss: 2.384359\n",
            "Train Epoch: 1 [4700/60000 (8%)]\tLoss: 2.332051\n",
            "Train Epoch: 1 [4750/60000 (8%)]\tLoss: 2.383530\n",
            "Train Epoch: 1 [4800/60000 (8%)]\tLoss: 2.214647\n",
            "Train Epoch: 1 [4850/60000 (8%)]\tLoss: 2.253757\n",
            "Train Epoch: 1 [4900/60000 (8%)]\tLoss: 2.361964\n",
            "Train Epoch: 1 [4950/60000 (8%)]\tLoss: 2.268476\n",
            "Train Epoch: 1 [5000/60000 (8%)]\tLoss: 2.337324\n",
            "Train Epoch: 1 [5050/60000 (8%)]\tLoss: 2.270697\n",
            "Train Epoch: 1 [5100/60000 (8%)]\tLoss: 2.335207\n",
            "Train Epoch: 1 [5150/60000 (9%)]\tLoss: 2.223719\n",
            "Train Epoch: 1 [5200/60000 (9%)]\tLoss: 2.243972\n",
            "Train Epoch: 1 [5250/60000 (9%)]\tLoss: 2.311614\n",
            "Train Epoch: 1 [5300/60000 (9%)]\tLoss: 2.364280\n",
            "Train Epoch: 1 [5350/60000 (9%)]\tLoss: 2.351178\n",
            "Train Epoch: 1 [5400/60000 (9%)]\tLoss: 2.259095\n",
            "Train Epoch: 1 [5450/60000 (9%)]\tLoss: 2.328886\n",
            "Train Epoch: 1 [5500/60000 (9%)]\tLoss: 2.395462\n",
            "Train Epoch: 1 [5550/60000 (9%)]\tLoss: 2.253589\n",
            "Train Epoch: 1 [5600/60000 (9%)]\tLoss: 2.259988\n",
            "Train Epoch: 1 [5650/60000 (9%)]\tLoss: 2.261772\n",
            "Train Epoch: 1 [5700/60000 (10%)]\tLoss: 2.324421\n",
            "Train Epoch: 1 [5750/60000 (10%)]\tLoss: 2.319311\n",
            "Train Epoch: 1 [5800/60000 (10%)]\tLoss: 2.369087\n",
            "Train Epoch: 1 [5850/60000 (10%)]\tLoss: 2.417921\n",
            "Train Epoch: 1 [5900/60000 (10%)]\tLoss: 2.323727\n",
            "Train Epoch: 1 [5950/60000 (10%)]\tLoss: 2.334160\n",
            "Train Epoch: 1 [6000/60000 (10%)]\tLoss: 2.349937\n",
            "Train Epoch: 1 [6050/60000 (10%)]\tLoss: 2.377232\n",
            "Train Epoch: 1 [6100/60000 (10%)]\tLoss: 2.143840\n",
            "Train Epoch: 1 [6150/60000 (10%)]\tLoss: 2.351024\n",
            "Train Epoch: 1 [6200/60000 (10%)]\tLoss: 2.359327\n",
            "Train Epoch: 1 [6250/60000 (10%)]\tLoss: 2.361845\n",
            "Train Epoch: 1 [6300/60000 (10%)]\tLoss: 2.244906\n",
            "Train Epoch: 1 [6350/60000 (11%)]\tLoss: 2.198881\n",
            "Train Epoch: 1 [6400/60000 (11%)]\tLoss: 2.122821\n",
            "Train Epoch: 1 [6450/60000 (11%)]\tLoss: 2.218538\n",
            "Train Epoch: 1 [6500/60000 (11%)]\tLoss: 2.298263\n",
            "Train Epoch: 1 [6550/60000 (11%)]\tLoss: 2.368619\n",
            "Train Epoch: 1 [6600/60000 (11%)]\tLoss: 2.310742\n",
            "Train Epoch: 1 [6650/60000 (11%)]\tLoss: 2.442394\n",
            "Train Epoch: 1 [6700/60000 (11%)]\tLoss: 2.372824\n",
            "Train Epoch: 1 [6750/60000 (11%)]\tLoss: 2.334593\n",
            "Train Epoch: 1 [6800/60000 (11%)]\tLoss: 2.268894\n",
            "Train Epoch: 1 [6850/60000 (11%)]\tLoss: 2.260554\n",
            "Train Epoch: 1 [6900/60000 (12%)]\tLoss: 2.409274\n",
            "Train Epoch: 1 [6950/60000 (12%)]\tLoss: 2.386273\n",
            "Train Epoch: 1 [7000/60000 (12%)]\tLoss: 2.261467\n",
            "Train Epoch: 1 [7050/60000 (12%)]\tLoss: 2.244812\n",
            "Train Epoch: 1 [7100/60000 (12%)]\tLoss: 2.371898\n",
            "Train Epoch: 1 [7150/60000 (12%)]\tLoss: 2.280945\n",
            "Train Epoch: 1 [7200/60000 (12%)]\tLoss: 2.278584\n",
            "Train Epoch: 1 [7250/60000 (12%)]\tLoss: 2.253922\n",
            "Train Epoch: 1 [7300/60000 (12%)]\tLoss: 2.402167\n",
            "Train Epoch: 1 [7350/60000 (12%)]\tLoss: 2.302009\n",
            "Train Epoch: 1 [7400/60000 (12%)]\tLoss: 2.341526\n",
            "Train Epoch: 1 [7450/60000 (12%)]\tLoss: 2.395841\n",
            "Train Epoch: 1 [7500/60000 (12%)]\tLoss: 2.376612\n",
            "Train Epoch: 1 [7550/60000 (13%)]\tLoss: 2.400662\n",
            "Train Epoch: 1 [7600/60000 (13%)]\tLoss: 2.205764\n",
            "Train Epoch: 1 [7650/60000 (13%)]\tLoss: 2.298335\n",
            "Train Epoch: 1 [7700/60000 (13%)]\tLoss: 2.237832\n",
            "Train Epoch: 1 [7750/60000 (13%)]\tLoss: 2.240527\n",
            "Train Epoch: 1 [7800/60000 (13%)]\tLoss: 2.355549\n",
            "Train Epoch: 1 [7850/60000 (13%)]\tLoss: 2.403456\n",
            "Train Epoch: 1 [7900/60000 (13%)]\tLoss: 2.393124\n",
            "Train Epoch: 1 [7950/60000 (13%)]\tLoss: 2.240648\n",
            "Train Epoch: 1 [8000/60000 (13%)]\tLoss: 2.137201\n",
            "Train Epoch: 1 [8050/60000 (13%)]\tLoss: 2.229712\n",
            "Train Epoch: 1 [8100/60000 (14%)]\tLoss: 2.310028\n",
            "Train Epoch: 1 [8150/60000 (14%)]\tLoss: 2.252322\n",
            "Train Epoch: 1 [8200/60000 (14%)]\tLoss: 2.438750\n",
            "Train Epoch: 1 [8250/60000 (14%)]\tLoss: 2.202171\n",
            "Train Epoch: 1 [8300/60000 (14%)]\tLoss: 2.381292\n",
            "Train Epoch: 1 [8350/60000 (14%)]\tLoss: 2.395363\n",
            "Train Epoch: 1 [8400/60000 (14%)]\tLoss: 2.328262\n",
            "Train Epoch: 1 [8450/60000 (14%)]\tLoss: 2.271515\n",
            "Train Epoch: 1 [8500/60000 (14%)]\tLoss: 2.285455\n",
            "Train Epoch: 1 [8550/60000 (14%)]\tLoss: 2.329715\n",
            "Train Epoch: 1 [8600/60000 (14%)]\tLoss: 2.278828\n",
            "Train Epoch: 1 [8650/60000 (14%)]\tLoss: 2.464987\n",
            "Train Epoch: 1 [8700/60000 (14%)]\tLoss: 2.275882\n",
            "Train Epoch: 1 [8750/60000 (15%)]\tLoss: 2.338515\n",
            "Train Epoch: 1 [8800/60000 (15%)]\tLoss: 2.260992\n",
            "Train Epoch: 1 [8850/60000 (15%)]\tLoss: 2.315105\n",
            "Train Epoch: 1 [8900/60000 (15%)]\tLoss: 2.179589\n",
            "Train Epoch: 1 [8950/60000 (15%)]\tLoss: 2.320587\n",
            "Train Epoch: 1 [9000/60000 (15%)]\tLoss: 2.152583\n",
            "Train Epoch: 1 [9050/60000 (15%)]\tLoss: 2.312461\n",
            "Train Epoch: 1 [9100/60000 (15%)]\tLoss: 2.310979\n",
            "Train Epoch: 1 [9150/60000 (15%)]\tLoss: 2.275476\n",
            "Train Epoch: 1 [9200/60000 (15%)]\tLoss: 2.335872\n",
            "Train Epoch: 1 [9250/60000 (15%)]\tLoss: 2.400507\n",
            "Train Epoch: 1 [9300/60000 (16%)]\tLoss: 2.238406\n",
            "Train Epoch: 1 [9350/60000 (16%)]\tLoss: 2.415923\n",
            "Train Epoch: 1 [9400/60000 (16%)]\tLoss: 2.301934\n",
            "Train Epoch: 1 [9450/60000 (16%)]\tLoss: 2.317007\n",
            "Train Epoch: 1 [9500/60000 (16%)]\tLoss: 2.268154\n",
            "Train Epoch: 1 [9550/60000 (16%)]\tLoss: 2.457193\n",
            "Train Epoch: 1 [9600/60000 (16%)]\tLoss: 2.398750\n",
            "Train Epoch: 1 [9650/60000 (16%)]\tLoss: 2.431755\n",
            "Train Epoch: 1 [9700/60000 (16%)]\tLoss: 2.224670\n",
            "Train Epoch: 1 [9750/60000 (16%)]\tLoss: 2.199718\n",
            "Train Epoch: 1 [9800/60000 (16%)]\tLoss: 2.254070\n",
            "Train Epoch: 1 [9850/60000 (16%)]\tLoss: 2.313337\n",
            "Train Epoch: 1 [9900/60000 (16%)]\tLoss: 2.346724\n",
            "Train Epoch: 1 [9950/60000 (17%)]\tLoss: 2.386641\n",
            "Train Epoch: 1 [10000/60000 (17%)]\tLoss: 2.420660\n",
            "Train Epoch: 1 [10050/60000 (17%)]\tLoss: 2.223233\n",
            "Train Epoch: 1 [10100/60000 (17%)]\tLoss: 2.385385\n",
            "Train Epoch: 1 [10150/60000 (17%)]\tLoss: 2.296167\n",
            "Train Epoch: 1 [10200/60000 (17%)]\tLoss: 2.383132\n",
            "Train Epoch: 1 [10250/60000 (17%)]\tLoss: 2.295037\n",
            "Train Epoch: 1 [10300/60000 (17%)]\tLoss: 2.371856\n",
            "Train Epoch: 1 [10350/60000 (17%)]\tLoss: 2.284132\n",
            "Train Epoch: 1 [10400/60000 (17%)]\tLoss: 2.188695\n",
            "Train Epoch: 1 [10450/60000 (17%)]\tLoss: 2.347021\n",
            "Train Epoch: 1 [10500/60000 (18%)]\tLoss: 2.445019\n",
            "Train Epoch: 1 [10550/60000 (18%)]\tLoss: 2.288569\n",
            "Train Epoch: 1 [10600/60000 (18%)]\tLoss: 2.336038\n",
            "Train Epoch: 1 [10650/60000 (18%)]\tLoss: 2.303347\n",
            "Train Epoch: 1 [10700/60000 (18%)]\tLoss: 2.240040\n",
            "Train Epoch: 1 [10750/60000 (18%)]\tLoss: 2.286010\n",
            "Train Epoch: 1 [10800/60000 (18%)]\tLoss: 2.294702\n",
            "Train Epoch: 1 [10850/60000 (18%)]\tLoss: 2.283294\n",
            "Train Epoch: 1 [10900/60000 (18%)]\tLoss: 2.307556\n",
            "Train Epoch: 1 [10950/60000 (18%)]\tLoss: 2.272853\n",
            "Train Epoch: 1 [11000/60000 (18%)]\tLoss: 2.304159\n",
            "Train Epoch: 1 [11050/60000 (18%)]\tLoss: 2.412846\n",
            "Train Epoch: 1 [11100/60000 (18%)]\tLoss: 2.251630\n",
            "Train Epoch: 1 [11150/60000 (19%)]\tLoss: 2.314678\n",
            "Train Epoch: 1 [11200/60000 (19%)]\tLoss: 2.370547\n",
            "Train Epoch: 1 [11250/60000 (19%)]\tLoss: 2.367671\n",
            "Train Epoch: 1 [11300/60000 (19%)]\tLoss: 2.290821\n",
            "Train Epoch: 1 [11350/60000 (19%)]\tLoss: 2.354443\n",
            "Train Epoch: 1 [11400/60000 (19%)]\tLoss: 2.280188\n",
            "Train Epoch: 1 [11450/60000 (19%)]\tLoss: 2.403521\n",
            "Train Epoch: 1 [11500/60000 (19%)]\tLoss: 2.299000\n",
            "Train Epoch: 1 [11550/60000 (19%)]\tLoss: 2.413154\n",
            "Train Epoch: 1 [11600/60000 (19%)]\tLoss: 2.422197\n",
            "Train Epoch: 1 [11650/60000 (19%)]\tLoss: 2.507660\n",
            "Train Epoch: 1 [11700/60000 (20%)]\tLoss: 2.279660\n",
            "Train Epoch: 1 [11750/60000 (20%)]\tLoss: 2.240006\n",
            "Train Epoch: 1 [11800/60000 (20%)]\tLoss: 2.217885\n",
            "Train Epoch: 1 [11850/60000 (20%)]\tLoss: 2.230337\n",
            "Train Epoch: 1 [11900/60000 (20%)]\tLoss: 2.296002\n",
            "Train Epoch: 1 [11950/60000 (20%)]\tLoss: 2.277746\n",
            "Train Epoch: 1 [12000/60000 (20%)]\tLoss: 2.230672\n",
            "Train Epoch: 1 [12050/60000 (20%)]\tLoss: 2.315310\n",
            "Train Epoch: 1 [12100/60000 (20%)]\tLoss: 2.304591\n",
            "Train Epoch: 1 [12150/60000 (20%)]\tLoss: 2.209311\n",
            "Train Epoch: 1 [12200/60000 (20%)]\tLoss: 2.359063\n",
            "Train Epoch: 1 [12250/60000 (20%)]\tLoss: 2.414641\n",
            "Train Epoch: 1 [12300/60000 (20%)]\tLoss: 2.353953\n",
            "Train Epoch: 1 [12350/60000 (21%)]\tLoss: 2.341206\n",
            "Train Epoch: 1 [12400/60000 (21%)]\tLoss: 2.334163\n",
            "Train Epoch: 1 [12450/60000 (21%)]\tLoss: 2.291508\n",
            "Train Epoch: 1 [12500/60000 (21%)]\tLoss: 2.258082\n",
            "Train Epoch: 1 [12550/60000 (21%)]\tLoss: 2.141523\n",
            "Train Epoch: 1 [12600/60000 (21%)]\tLoss: 2.282631\n",
            "Train Epoch: 1 [12650/60000 (21%)]\tLoss: 2.318990\n",
            "Train Epoch: 1 [12700/60000 (21%)]\tLoss: 2.253828\n",
            "Train Epoch: 1 [12750/60000 (21%)]\tLoss: 2.212148\n",
            "Train Epoch: 1 [12800/60000 (21%)]\tLoss: 2.275678\n",
            "Train Epoch: 1 [12850/60000 (21%)]\tLoss: 2.337590\n",
            "Train Epoch: 1 [12900/60000 (22%)]\tLoss: 2.416825\n",
            "Train Epoch: 1 [12950/60000 (22%)]\tLoss: 2.346964\n",
            "Train Epoch: 1 [13000/60000 (22%)]\tLoss: 2.274304\n",
            "Train Epoch: 1 [13050/60000 (22%)]\tLoss: 2.309682\n",
            "Train Epoch: 1 [13100/60000 (22%)]\tLoss: 2.427728\n",
            "Train Epoch: 1 [13150/60000 (22%)]\tLoss: 2.385201\n",
            "Train Epoch: 1 [13200/60000 (22%)]\tLoss: 2.394552\n",
            "Train Epoch: 1 [13250/60000 (22%)]\tLoss: 2.239982\n",
            "Train Epoch: 1 [13300/60000 (22%)]\tLoss: 2.363774\n",
            "Train Epoch: 1 [13350/60000 (22%)]\tLoss: 2.380315\n",
            "Train Epoch: 1 [13400/60000 (22%)]\tLoss: 2.301370\n",
            "Train Epoch: 1 [13450/60000 (22%)]\tLoss: 2.248878\n",
            "Train Epoch: 1 [13500/60000 (22%)]\tLoss: 2.297199\n",
            "Train Epoch: 1 [13550/60000 (23%)]\tLoss: 2.390410\n",
            "Train Epoch: 1 [13600/60000 (23%)]\tLoss: 2.307639\n",
            "Train Epoch: 1 [13650/60000 (23%)]\tLoss: 2.289104\n",
            "Train Epoch: 1 [13700/60000 (23%)]\tLoss: 2.412380\n",
            "Train Epoch: 1 [13750/60000 (23%)]\tLoss: 2.236516\n",
            "Train Epoch: 1 [13800/60000 (23%)]\tLoss: 2.352563\n",
            "Train Epoch: 1 [13850/60000 (23%)]\tLoss: 2.315969\n",
            "Train Epoch: 1 [13900/60000 (23%)]\tLoss: 2.194520\n",
            "Train Epoch: 1 [13950/60000 (23%)]\tLoss: 2.406907\n",
            "Train Epoch: 1 [14000/60000 (23%)]\tLoss: 2.401633\n",
            "Train Epoch: 1 [14050/60000 (23%)]\tLoss: 2.338803\n",
            "Train Epoch: 1 [14100/60000 (24%)]\tLoss: 2.362062\n",
            "Train Epoch: 1 [14150/60000 (24%)]\tLoss: 2.164932\n",
            "Train Epoch: 1 [14200/60000 (24%)]\tLoss: 2.341753\n",
            "Train Epoch: 1 [14250/60000 (24%)]\tLoss: 2.342617\n",
            "Train Epoch: 1 [14300/60000 (24%)]\tLoss: 2.406520\n",
            "Train Epoch: 1 [14350/60000 (24%)]\tLoss: 2.299140\n",
            "Train Epoch: 1 [14400/60000 (24%)]\tLoss: 2.387668\n",
            "Train Epoch: 1 [14450/60000 (24%)]\tLoss: 2.309275\n",
            "Train Epoch: 1 [14500/60000 (24%)]\tLoss: 2.219830\n",
            "Train Epoch: 1 [14550/60000 (24%)]\tLoss: 2.367320\n",
            "Train Epoch: 1 [14600/60000 (24%)]\tLoss: 2.325677\n",
            "Train Epoch: 1 [14650/60000 (24%)]\tLoss: 2.296902\n",
            "Train Epoch: 1 [14700/60000 (24%)]\tLoss: 2.415518\n",
            "Train Epoch: 1 [14750/60000 (25%)]\tLoss: 2.287736\n",
            "Train Epoch: 1 [14800/60000 (25%)]\tLoss: 2.359273\n",
            "Train Epoch: 1 [14850/60000 (25%)]\tLoss: 2.341729\n",
            "Train Epoch: 1 [14900/60000 (25%)]\tLoss: 2.432553\n",
            "Train Epoch: 1 [14950/60000 (25%)]\tLoss: 2.381621\n",
            "Train Epoch: 1 [15000/60000 (25%)]\tLoss: 2.231373\n",
            "Train Epoch: 1 [15050/60000 (25%)]\tLoss: 2.384024\n",
            "Train Epoch: 1 [15100/60000 (25%)]\tLoss: 2.358999\n",
            "Train Epoch: 1 [15150/60000 (25%)]\tLoss: 2.183034\n",
            "Train Epoch: 1 [15200/60000 (25%)]\tLoss: 2.393429\n",
            "Train Epoch: 1 [15250/60000 (25%)]\tLoss: 2.323365\n",
            "Train Epoch: 1 [15300/60000 (26%)]\tLoss: 2.411599\n",
            "Train Epoch: 1 [15350/60000 (26%)]\tLoss: 2.283344\n",
            "Train Epoch: 1 [15400/60000 (26%)]\tLoss: 2.282338\n",
            "Train Epoch: 1 [15450/60000 (26%)]\tLoss: 2.342808\n",
            "Train Epoch: 1 [15500/60000 (26%)]\tLoss: 2.273424\n",
            "Train Epoch: 1 [15550/60000 (26%)]\tLoss: 2.419170\n",
            "Train Epoch: 1 [15600/60000 (26%)]\tLoss: 2.186199\n",
            "Train Epoch: 1 [15650/60000 (26%)]\tLoss: 2.344430\n",
            "Train Epoch: 1 [15700/60000 (26%)]\tLoss: 2.268981\n",
            "Train Epoch: 1 [15750/60000 (26%)]\tLoss: 2.352642\n",
            "Train Epoch: 1 [15800/60000 (26%)]\tLoss: 2.306401\n",
            "Train Epoch: 1 [15850/60000 (26%)]\tLoss: 2.292209\n",
            "Train Epoch: 1 [15900/60000 (26%)]\tLoss: 2.325799\n",
            "Train Epoch: 1 [15950/60000 (27%)]\tLoss: 2.364105\n",
            "Train Epoch: 1 [16000/60000 (27%)]\tLoss: 2.441725\n",
            "Train Epoch: 1 [16050/60000 (27%)]\tLoss: 2.411729\n",
            "Train Epoch: 1 [16100/60000 (27%)]\tLoss: 2.246808\n",
            "Train Epoch: 1 [16150/60000 (27%)]\tLoss: 2.297165\n",
            "Train Epoch: 1 [16200/60000 (27%)]\tLoss: 2.357557\n",
            "Train Epoch: 1 [16250/60000 (27%)]\tLoss: 2.216542\n",
            "Train Epoch: 1 [16300/60000 (27%)]\tLoss: 2.408544\n",
            "Train Epoch: 1 [16350/60000 (27%)]\tLoss: 2.316886\n",
            "Train Epoch: 1 [16400/60000 (27%)]\tLoss: 2.379963\n",
            "Train Epoch: 1 [16450/60000 (27%)]\tLoss: 2.319703\n",
            "Train Epoch: 1 [16500/60000 (28%)]\tLoss: 2.448282\n",
            "Train Epoch: 1 [16550/60000 (28%)]\tLoss: 2.293120\n",
            "Train Epoch: 1 [16600/60000 (28%)]\tLoss: 2.209542\n",
            "Train Epoch: 1 [16650/60000 (28%)]\tLoss: 2.295598\n",
            "Train Epoch: 1 [16700/60000 (28%)]\tLoss: 2.392708\n",
            "Train Epoch: 1 [16750/60000 (28%)]\tLoss: 2.399691\n",
            "Train Epoch: 1 [16800/60000 (28%)]\tLoss: 2.322391\n",
            "Train Epoch: 1 [16850/60000 (28%)]\tLoss: 2.402020\n",
            "Train Epoch: 1 [16900/60000 (28%)]\tLoss: 2.254914\n",
            "Train Epoch: 1 [16950/60000 (28%)]\tLoss: 2.429053\n",
            "Train Epoch: 1 [17000/60000 (28%)]\tLoss: 2.300585\n",
            "Train Epoch: 1 [17050/60000 (28%)]\tLoss: 2.160548\n",
            "Train Epoch: 1 [17100/60000 (28%)]\tLoss: 2.324472\n",
            "Train Epoch: 1 [17150/60000 (29%)]\tLoss: 2.302017\n",
            "Train Epoch: 1 [17200/60000 (29%)]\tLoss: 2.186661\n",
            "Train Epoch: 1 [17250/60000 (29%)]\tLoss: 2.522231\n",
            "Train Epoch: 1 [17300/60000 (29%)]\tLoss: 2.340421\n",
            "Train Epoch: 1 [17350/60000 (29%)]\tLoss: 2.431619\n",
            "Train Epoch: 1 [17400/60000 (29%)]\tLoss: 2.126676\n",
            "Train Epoch: 1 [17450/60000 (29%)]\tLoss: 2.255621\n",
            "Train Epoch: 1 [17500/60000 (29%)]\tLoss: 2.406396\n",
            "Train Epoch: 1 [17550/60000 (29%)]\tLoss: 2.312483\n",
            "Train Epoch: 1 [17600/60000 (29%)]\tLoss: 2.310260\n",
            "Train Epoch: 1 [17650/60000 (29%)]\tLoss: 2.335107\n",
            "Train Epoch: 1 [17700/60000 (30%)]\tLoss: 2.290704\n",
            "Train Epoch: 1 [17750/60000 (30%)]\tLoss: 2.458437\n",
            "Train Epoch: 1 [17800/60000 (30%)]\tLoss: 2.416241\n",
            "Train Epoch: 1 [17850/60000 (30%)]\tLoss: 2.425529\n",
            "Train Epoch: 1 [17900/60000 (30%)]\tLoss: 2.417210\n",
            "Train Epoch: 1 [17950/60000 (30%)]\tLoss: 2.300287\n",
            "Train Epoch: 1 [18000/60000 (30%)]\tLoss: 2.391435\n",
            "Train Epoch: 1 [18050/60000 (30%)]\tLoss: 2.395119\n",
            "Train Epoch: 1 [18100/60000 (30%)]\tLoss: 2.528042\n",
            "Train Epoch: 1 [18150/60000 (30%)]\tLoss: 2.434594\n",
            "Train Epoch: 1 [18200/60000 (30%)]\tLoss: 2.341867\n",
            "Train Epoch: 1 [18250/60000 (30%)]\tLoss: 2.309390\n",
            "Train Epoch: 1 [18300/60000 (30%)]\tLoss: 2.395549\n",
            "Train Epoch: 1 [18350/60000 (31%)]\tLoss: 2.254009\n",
            "Train Epoch: 1 [18400/60000 (31%)]\tLoss: 2.402840\n",
            "Train Epoch: 1 [18450/60000 (31%)]\tLoss: 2.363526\n",
            "Train Epoch: 1 [18500/60000 (31%)]\tLoss: 2.254824\n",
            "Train Epoch: 1 [18550/60000 (31%)]\tLoss: 2.153483\n",
            "Train Epoch: 1 [18600/60000 (31%)]\tLoss: 2.265305\n",
            "Train Epoch: 1 [18650/60000 (31%)]\tLoss: 2.300438\n",
            "Train Epoch: 1 [18700/60000 (31%)]\tLoss: 2.335140\n",
            "Train Epoch: 1 [18750/60000 (31%)]\tLoss: 2.179151\n",
            "Train Epoch: 1 [18800/60000 (31%)]\tLoss: 2.451092\n",
            "Train Epoch: 1 [18850/60000 (31%)]\tLoss: 2.345286\n",
            "Train Epoch: 1 [18900/60000 (32%)]\tLoss: 2.364909\n",
            "Train Epoch: 1 [18950/60000 (32%)]\tLoss: 2.296686\n",
            "Train Epoch: 1 [19000/60000 (32%)]\tLoss: 2.303503\n",
            "Train Epoch: 1 [19050/60000 (32%)]\tLoss: 2.360148\n",
            "Train Epoch: 1 [19100/60000 (32%)]\tLoss: 2.397134\n",
            "Train Epoch: 1 [19150/60000 (32%)]\tLoss: 2.403697\n",
            "Train Epoch: 1 [19200/60000 (32%)]\tLoss: 2.306881\n",
            "Train Epoch: 1 [19250/60000 (32%)]\tLoss: 2.341897\n",
            "Train Epoch: 1 [19300/60000 (32%)]\tLoss: 2.317484\n",
            "Train Epoch: 1 [19350/60000 (32%)]\tLoss: 2.387564\n",
            "Train Epoch: 1 [19400/60000 (32%)]\tLoss: 2.493825\n",
            "Train Epoch: 1 [19450/60000 (32%)]\tLoss: 2.292496\n",
            "Train Epoch: 1 [19500/60000 (32%)]\tLoss: 2.355609\n",
            "Train Epoch: 1 [19550/60000 (33%)]\tLoss: 2.284520\n",
            "Train Epoch: 1 [19600/60000 (33%)]\tLoss: 2.288496\n",
            "Train Epoch: 1 [19650/60000 (33%)]\tLoss: 2.349837\n",
            "Train Epoch: 1 [19700/60000 (33%)]\tLoss: 2.415980\n",
            "Train Epoch: 1 [19750/60000 (33%)]\tLoss: 2.449608\n",
            "Train Epoch: 1 [19800/60000 (33%)]\tLoss: 2.365032\n",
            "Train Epoch: 1 [19850/60000 (33%)]\tLoss: 2.369094\n",
            "Train Epoch: 1 [19900/60000 (33%)]\tLoss: 2.210268\n",
            "Train Epoch: 1 [19950/60000 (33%)]\tLoss: 2.311652\n",
            "Train Epoch: 1 [20000/60000 (33%)]\tLoss: 2.295762\n",
            "Train Epoch: 1 [20050/60000 (33%)]\tLoss: 2.308057\n",
            "Train Epoch: 1 [20100/60000 (34%)]\tLoss: 2.341097\n",
            "Train Epoch: 1 [20150/60000 (34%)]\tLoss: 2.418905\n",
            "Train Epoch: 1 [20200/60000 (34%)]\tLoss: 2.244252\n",
            "Train Epoch: 1 [20250/60000 (34%)]\tLoss: 2.356012\n",
            "Train Epoch: 1 [20300/60000 (34%)]\tLoss: 2.359001\n",
            "Train Epoch: 1 [20350/60000 (34%)]\tLoss: 2.256266\n",
            "Train Epoch: 1 [20400/60000 (34%)]\tLoss: 2.344732\n",
            "Train Epoch: 1 [20450/60000 (34%)]\tLoss: 2.331866\n",
            "Train Epoch: 1 [20500/60000 (34%)]\tLoss: 2.285322\n",
            "Train Epoch: 1 [20550/60000 (34%)]\tLoss: 2.383700\n",
            "Train Epoch: 1 [20600/60000 (34%)]\tLoss: 2.323976\n",
            "Train Epoch: 1 [20650/60000 (34%)]\tLoss: 2.292059\n",
            "Train Epoch: 1 [20700/60000 (34%)]\tLoss: 2.313911\n",
            "Train Epoch: 1 [20750/60000 (35%)]\tLoss: 2.286900\n",
            "Train Epoch: 1 [20800/60000 (35%)]\tLoss: 2.265830\n",
            "Train Epoch: 1 [20850/60000 (35%)]\tLoss: 2.356338\n",
            "Train Epoch: 1 [20900/60000 (35%)]\tLoss: 2.400962\n",
            "Train Epoch: 1 [20950/60000 (35%)]\tLoss: 2.351782\n",
            "Train Epoch: 1 [21000/60000 (35%)]\tLoss: 2.374938\n",
            "Train Epoch: 1 [21050/60000 (35%)]\tLoss: 2.192917\n",
            "Train Epoch: 1 [21100/60000 (35%)]\tLoss: 2.313420\n",
            "Train Epoch: 1 [21150/60000 (35%)]\tLoss: 2.360192\n",
            "Train Epoch: 1 [21200/60000 (35%)]\tLoss: 2.381758\n",
            "Train Epoch: 1 [21250/60000 (35%)]\tLoss: 2.383953\n",
            "Train Epoch: 1 [21300/60000 (36%)]\tLoss: 2.381191\n",
            "Train Epoch: 1 [21350/60000 (36%)]\tLoss: 2.297975\n",
            "Train Epoch: 1 [21400/60000 (36%)]\tLoss: 2.271995\n",
            "Train Epoch: 1 [21450/60000 (36%)]\tLoss: 2.367756\n",
            "Train Epoch: 1 [21500/60000 (36%)]\tLoss: 2.320693\n",
            "Train Epoch: 1 [21550/60000 (36%)]\tLoss: 2.196711\n",
            "Train Epoch: 1 [21600/60000 (36%)]\tLoss: 2.165848\n",
            "Train Epoch: 1 [21650/60000 (36%)]\tLoss: 2.430312\n",
            "Train Epoch: 1 [21700/60000 (36%)]\tLoss: 2.443547\n",
            "Train Epoch: 1 [21750/60000 (36%)]\tLoss: 2.378815\n",
            "Train Epoch: 1 [21800/60000 (36%)]\tLoss: 2.147452\n",
            "Train Epoch: 1 [21850/60000 (36%)]\tLoss: 2.309732\n",
            "Train Epoch: 1 [21900/60000 (36%)]\tLoss: 2.178672\n",
            "Train Epoch: 1 [21950/60000 (37%)]\tLoss: 2.354531\n",
            "Train Epoch: 1 [22000/60000 (37%)]\tLoss: 2.365523\n",
            "Train Epoch: 1 [22050/60000 (37%)]\tLoss: 2.323160\n",
            "Train Epoch: 1 [22100/60000 (37%)]\tLoss: 2.469836\n",
            "Train Epoch: 1 [22150/60000 (37%)]\tLoss: 2.387082\n",
            "Train Epoch: 1 [22200/60000 (37%)]\tLoss: 2.411930\n",
            "Train Epoch: 1 [22250/60000 (37%)]\tLoss: 2.298489\n",
            "Train Epoch: 1 [22300/60000 (37%)]\tLoss: 2.266151\n",
            "Train Epoch: 1 [22350/60000 (37%)]\tLoss: 2.337888\n",
            "Train Epoch: 1 [22400/60000 (37%)]\tLoss: 2.311208\n",
            "Train Epoch: 1 [22450/60000 (37%)]\tLoss: 2.346311\n",
            "Train Epoch: 1 [22500/60000 (38%)]\tLoss: 2.292024\n",
            "Train Epoch: 1 [22550/60000 (38%)]\tLoss: 2.266747\n",
            "Train Epoch: 1 [22600/60000 (38%)]\tLoss: 2.319839\n",
            "Train Epoch: 1 [22650/60000 (38%)]\tLoss: 2.286727\n",
            "Train Epoch: 1 [22700/60000 (38%)]\tLoss: 2.416365\n",
            "Train Epoch: 1 [22750/60000 (38%)]\tLoss: 2.300211\n",
            "Train Epoch: 1 [22800/60000 (38%)]\tLoss: 2.257526\n",
            "Train Epoch: 1 [22850/60000 (38%)]\tLoss: 2.401749\n",
            "Train Epoch: 1 [22900/60000 (38%)]\tLoss: 2.353870\n",
            "Train Epoch: 1 [22950/60000 (38%)]\tLoss: 2.287912\n",
            "Train Epoch: 1 [23000/60000 (38%)]\tLoss: 2.219032\n",
            "Train Epoch: 1 [23050/60000 (38%)]\tLoss: 2.289859\n",
            "Train Epoch: 1 [23100/60000 (38%)]\tLoss: 2.435040\n"
          ]
        }
      ]
    }
  ],
  "metadata": {
    "accelerator": "GPU",
    "colab": {
      "collapsed_sections": [],
      "name": "a0.ipynb",
      "provenance": [],
      "toc_visible": true,
      "include_colab_link": true
    },
    "kernelspec": {
      "display_name": "Python 3",
      "name": "python3"
    },
    "language_info": {
      "name": "python"
    }
  },
  "nbformat": 4,
  "nbformat_minor": 0
}